{
 "cells": [
  {
   "cell_type": "markdown",
   "metadata": {},
   "source": [
    "# Building Classifiers"
   ]
  },
  {
   "cell_type": "code",
   "execution_count": 1,
   "metadata": {},
   "outputs": [],
   "source": [
    "import Classification_Utils as cu\n",
    "import numpy as np\n",
    "import pandas as pd\n",
    "from sklearn.model_selection import train_test_split\n",
    "from sklearn.preprocessing import MinMaxScaler, StandardScaler"
   ]
  },
  {
   "cell_type": "markdown",
   "metadata": {},
   "source": [
    "## Binary flag determines whether to convert data to 1 and 0 for presence/absence"
   ]
  },
  {
   "cell_type": "markdown",
   "metadata": {},
   "source": [
    "## Load and combine data from all tissues"
   ]
  },
  {
   "cell_type": "code",
   "execution_count": 3,
   "metadata": {
    "scrolled": true
   },
   "outputs": [
    {
     "name": "stdout",
     "output_type": "stream",
     "text": [
      "(68623, 253)\n"
     ]
    }
   ],
   "source": [
    "df = pd.read_csv('../Data/Random-Data-Set/train_cna_random.csv', sep='\\t', index_col='Peptide')\n",
    "print(df.shape)"
   ]
  },
  {
   "cell_type": "code",
   "execution_count": 4,
   "metadata": {},
   "outputs": [
    {
     "data": {
      "text/html": [
       "<div>\n",
       "<style scoped>\n",
       "    .dataframe tbody tr th:only-of-type {\n",
       "        vertical-align: middle;\n",
       "    }\n",
       "\n",
       "    .dataframe tbody tr th {\n",
       "        vertical-align: top;\n",
       "    }\n",
       "\n",
       "    .dataframe thead th {\n",
       "        text-align: right;\n",
       "    }\n",
       "</style>\n",
       "<table border=\"1\" class=\"dataframe\">\n",
       "  <thead>\n",
       "    <tr style=\"text-align: right;\">\n",
       "      <th></th>\n",
       "      <th>Blood_Plasma_CPTAC_TrypDige_undepleted_normal_19Apr13_Methow_13-02-13</th>\n",
       "      <th>Blood_Plasma_Darpa_2_human_02_23Jan17_Arwem_16-10-25</th>\n",
       "      <th>Blood_Plasma_OMICS_EBV_HP_UW001_8Apr16_Arwen_16-01-03</th>\n",
       "      <th>Blood_Plasma_OMICS_EBV_HP_UW002_8Apr16_Arwen_16-01-03</th>\n",
       "      <th>Blood_Plasma_OMICS_EBV_HP_UW003_8Apr16_Arwen_16-01-03</th>\n",
       "      <th>Blood_Plasma_OMICS_EBV_HP_UW004_8Apr16_Arwen_16-01-03</th>\n",
       "      <th>Blood_Plasma_OMICS_EBV_HP_UW005_8Apr16_Arwen_16-01-03</th>\n",
       "      <th>Blood_Plasma_OMICS_EBV_HP_UW006_8Apr16_Arwen_16-01-03</th>\n",
       "      <th>Blood_Plasma_OMICS_EBV_HP_UW007_8Apr16_Arwen_16-01-03</th>\n",
       "      <th>Blood_Plasma_OMICS_EBV_HP_UW008_8Apr16_Arwen_16-01-03</th>\n",
       "      <th>...</th>\n",
       "      <th>Temporal_Lobe_Alz_FX1P159_Guan_1_26Jul10_Andromeda_10-06-28</th>\n",
       "      <th>Temporal_Lobe_Alz_FX1P159_Guan_2_26Jul10_Andromeda_10-06-29</th>\n",
       "      <th>Temporal_Lobe_Alz_FX1P159_Guan_3_26Jul10_Andromeda_10-06-28</th>\n",
       "      <th>Temporal_Lobe_Alz_FX1P159_Guan_Typx2_1_26Jul10_Andromeda_10-06-29</th>\n",
       "      <th>Temporal_Lobe_Alz_FX1P159_Guan_Typx2_2_26Jul10_Andromeda_10-06-28</th>\n",
       "      <th>Temporal_Lobe_Alz_FX1P159_Guan_Typx2_3_26Jul10_Andromeda_10-06-29</th>\n",
       "      <th>Temporal_Lobe_Alz_FX2P57_IMAC_153_9May11_Hawk_11-04-02p</th>\n",
       "      <th>Temporal_Lobe_Alz_FX2P57_IMAC_161_20Apr11_Hawk_10-12-03p</th>\n",
       "      <th>Temporal_Lobe_Alz_FX2P57_IMAC_187_26Apr11_Hawk_10-12-03p</th>\n",
       "      <th>Temporal_Lobe_Alz_FX2P57_IMAC_212_11May11_Hawk_11-04-02p</th>\n",
       "    </tr>\n",
       "    <tr>\n",
       "      <th>Peptide</th>\n",
       "      <th></th>\n",
       "      <th></th>\n",
       "      <th></th>\n",
       "      <th></th>\n",
       "      <th></th>\n",
       "      <th></th>\n",
       "      <th></th>\n",
       "      <th></th>\n",
       "      <th></th>\n",
       "      <th></th>\n",
       "      <th></th>\n",
       "      <th></th>\n",
       "      <th></th>\n",
       "      <th></th>\n",
       "      <th></th>\n",
       "      <th></th>\n",
       "      <th></th>\n",
       "      <th></th>\n",
       "      <th></th>\n",
       "      <th></th>\n",
       "      <th></th>\n",
       "    </tr>\n",
       "  </thead>\n",
       "  <tbody>\n",
       "    <tr>\n",
       "      <th>-.DIQM*TQSPSTLSASVGDR.V</th>\n",
       "      <td>26.731951</td>\n",
       "      <td>22.187643</td>\n",
       "      <td>3.022208</td>\n",
       "      <td>29.328345</td>\n",
       "      <td>29.916272</td>\n",
       "      <td>3.022208</td>\n",
       "      <td>27.586706</td>\n",
       "      <td>30.458361</td>\n",
       "      <td>29.004130</td>\n",
       "      <td>31.023004</td>\n",
       "      <td>...</td>\n",
       "      <td>3.022208</td>\n",
       "      <td>3.022208</td>\n",
       "      <td>3.022208</td>\n",
       "      <td>3.022208</td>\n",
       "      <td>3.022208</td>\n",
       "      <td>3.022208</td>\n",
       "      <td>3.022208</td>\n",
       "      <td>3.022208</td>\n",
       "      <td>3.022208</td>\n",
       "      <td>3.022208</td>\n",
       "    </tr>\n",
       "    <tr>\n",
       "      <th>-.DIQM*TQSPSTLSASVGDRVTITCR.A</th>\n",
       "      <td>3.022208</td>\n",
       "      <td>3.022208</td>\n",
       "      <td>3.022208</td>\n",
       "      <td>30.633308</td>\n",
       "      <td>30.815586</td>\n",
       "      <td>3.022208</td>\n",
       "      <td>29.483431</td>\n",
       "      <td>32.564995</td>\n",
       "      <td>30.319263</td>\n",
       "      <td>32.368436</td>\n",
       "      <td>...</td>\n",
       "      <td>3.022208</td>\n",
       "      <td>3.022208</td>\n",
       "      <td>3.022208</td>\n",
       "      <td>3.022208</td>\n",
       "      <td>3.022208</td>\n",
       "      <td>3.022208</td>\n",
       "      <td>3.022208</td>\n",
       "      <td>3.022208</td>\n",
       "      <td>3.022208</td>\n",
       "      <td>3.022208</td>\n",
       "    </tr>\n",
       "    <tr>\n",
       "      <th>-.DIQMTQSPSTLSASVGDR.V</th>\n",
       "      <td>26.387537</td>\n",
       "      <td>28.015792</td>\n",
       "      <td>3.022208</td>\n",
       "      <td>3.022208</td>\n",
       "      <td>31.403752</td>\n",
       "      <td>3.022208</td>\n",
       "      <td>27.695976</td>\n",
       "      <td>29.779972</td>\n",
       "      <td>29.747784</td>\n",
       "      <td>30.255299</td>\n",
       "      <td>...</td>\n",
       "      <td>3.022208</td>\n",
       "      <td>3.022208</td>\n",
       "      <td>3.022208</td>\n",
       "      <td>3.022208</td>\n",
       "      <td>3.022208</td>\n",
       "      <td>3.022208</td>\n",
       "      <td>3.022208</td>\n",
       "      <td>3.022208</td>\n",
       "      <td>3.022208</td>\n",
       "      <td>3.022208</td>\n",
       "    </tr>\n",
       "    <tr>\n",
       "      <th>-.DIQMTQSPSTLSASVGDRVTITCR.A</th>\n",
       "      <td>3.022208</td>\n",
       "      <td>3.022208</td>\n",
       "      <td>3.022208</td>\n",
       "      <td>3.022208</td>\n",
       "      <td>32.585511</td>\n",
       "      <td>3.022208</td>\n",
       "      <td>3.022208</td>\n",
       "      <td>30.845879</td>\n",
       "      <td>30.983525</td>\n",
       "      <td>27.526416</td>\n",
       "      <td>...</td>\n",
       "      <td>3.022208</td>\n",
       "      <td>3.022208</td>\n",
       "      <td>3.022208</td>\n",
       "      <td>3.022208</td>\n",
       "      <td>3.022208</td>\n",
       "      <td>3.022208</td>\n",
       "      <td>3.022208</td>\n",
       "      <td>3.022208</td>\n",
       "      <td>3.022208</td>\n",
       "      <td>3.022208</td>\n",
       "    </tr>\n",
       "    <tr>\n",
       "      <th>-.EVQLVETGGGLIQPGGSLR.L</th>\n",
       "      <td>24.546220</td>\n",
       "      <td>3.022208</td>\n",
       "      <td>3.022208</td>\n",
       "      <td>3.022208</td>\n",
       "      <td>26.732727</td>\n",
       "      <td>3.022208</td>\n",
       "      <td>28.163126</td>\n",
       "      <td>23.836245</td>\n",
       "      <td>3.022208</td>\n",
       "      <td>28.436388</td>\n",
       "      <td>...</td>\n",
       "      <td>3.022208</td>\n",
       "      <td>3.022208</td>\n",
       "      <td>3.022208</td>\n",
       "      <td>3.022208</td>\n",
       "      <td>3.022208</td>\n",
       "      <td>3.022208</td>\n",
       "      <td>3.022208</td>\n",
       "      <td>3.022208</td>\n",
       "      <td>3.022208</td>\n",
       "      <td>3.022208</td>\n",
       "    </tr>\n",
       "  </tbody>\n",
       "</table>\n",
       "<p>5 rows × 253 columns</p>\n",
       "</div>"
      ],
      "text/plain": [
       "                               Blood_Plasma_CPTAC_TrypDige_undepleted_normal_19Apr13_Methow_13-02-13  \\\n",
       "Peptide                                                                                                \n",
       "-.DIQM*TQSPSTLSASVGDR.V                                                26.731951                       \n",
       "-.DIQM*TQSPSTLSASVGDRVTITCR.A                                           3.022208                       \n",
       "-.DIQMTQSPSTLSASVGDR.V                                                 26.387537                       \n",
       "-.DIQMTQSPSTLSASVGDRVTITCR.A                                            3.022208                       \n",
       "-.EVQLVETGGGLIQPGGSLR.L                                                24.546220                       \n",
       "\n",
       "                               Blood_Plasma_Darpa_2_human_02_23Jan17_Arwem_16-10-25  \\\n",
       "Peptide                                                                               \n",
       "-.DIQM*TQSPSTLSASVGDR.V                                                22.187643      \n",
       "-.DIQM*TQSPSTLSASVGDRVTITCR.A                                           3.022208      \n",
       "-.DIQMTQSPSTLSASVGDR.V                                                 28.015792      \n",
       "-.DIQMTQSPSTLSASVGDRVTITCR.A                                            3.022208      \n",
       "-.EVQLVETGGGLIQPGGSLR.L                                                 3.022208      \n",
       "\n",
       "                               Blood_Plasma_OMICS_EBV_HP_UW001_8Apr16_Arwen_16-01-03  \\\n",
       "Peptide                                                                                \n",
       "-.DIQM*TQSPSTLSASVGDR.V                                                 3.022208       \n",
       "-.DIQM*TQSPSTLSASVGDRVTITCR.A                                           3.022208       \n",
       "-.DIQMTQSPSTLSASVGDR.V                                                  3.022208       \n",
       "-.DIQMTQSPSTLSASVGDRVTITCR.A                                            3.022208       \n",
       "-.EVQLVETGGGLIQPGGSLR.L                                                 3.022208       \n",
       "\n",
       "                               Blood_Plasma_OMICS_EBV_HP_UW002_8Apr16_Arwen_16-01-03  \\\n",
       "Peptide                                                                                \n",
       "-.DIQM*TQSPSTLSASVGDR.V                                                29.328345       \n",
       "-.DIQM*TQSPSTLSASVGDRVTITCR.A                                          30.633308       \n",
       "-.DIQMTQSPSTLSASVGDR.V                                                  3.022208       \n",
       "-.DIQMTQSPSTLSASVGDRVTITCR.A                                            3.022208       \n",
       "-.EVQLVETGGGLIQPGGSLR.L                                                 3.022208       \n",
       "\n",
       "                               Blood_Plasma_OMICS_EBV_HP_UW003_8Apr16_Arwen_16-01-03  \\\n",
       "Peptide                                                                                \n",
       "-.DIQM*TQSPSTLSASVGDR.V                                                29.916272       \n",
       "-.DIQM*TQSPSTLSASVGDRVTITCR.A                                          30.815586       \n",
       "-.DIQMTQSPSTLSASVGDR.V                                                 31.403752       \n",
       "-.DIQMTQSPSTLSASVGDRVTITCR.A                                           32.585511       \n",
       "-.EVQLVETGGGLIQPGGSLR.L                                                26.732727       \n",
       "\n",
       "                               Blood_Plasma_OMICS_EBV_HP_UW004_8Apr16_Arwen_16-01-03  \\\n",
       "Peptide                                                                                \n",
       "-.DIQM*TQSPSTLSASVGDR.V                                                 3.022208       \n",
       "-.DIQM*TQSPSTLSASVGDRVTITCR.A                                           3.022208       \n",
       "-.DIQMTQSPSTLSASVGDR.V                                                  3.022208       \n",
       "-.DIQMTQSPSTLSASVGDRVTITCR.A                                            3.022208       \n",
       "-.EVQLVETGGGLIQPGGSLR.L                                                 3.022208       \n",
       "\n",
       "                               Blood_Plasma_OMICS_EBV_HP_UW005_8Apr16_Arwen_16-01-03  \\\n",
       "Peptide                                                                                \n",
       "-.DIQM*TQSPSTLSASVGDR.V                                                27.586706       \n",
       "-.DIQM*TQSPSTLSASVGDRVTITCR.A                                          29.483431       \n",
       "-.DIQMTQSPSTLSASVGDR.V                                                 27.695976       \n",
       "-.DIQMTQSPSTLSASVGDRVTITCR.A                                            3.022208       \n",
       "-.EVQLVETGGGLIQPGGSLR.L                                                28.163126       \n",
       "\n",
       "                               Blood_Plasma_OMICS_EBV_HP_UW006_8Apr16_Arwen_16-01-03  \\\n",
       "Peptide                                                                                \n",
       "-.DIQM*TQSPSTLSASVGDR.V                                                30.458361       \n",
       "-.DIQM*TQSPSTLSASVGDRVTITCR.A                                          32.564995       \n",
       "-.DIQMTQSPSTLSASVGDR.V                                                 29.779972       \n",
       "-.DIQMTQSPSTLSASVGDRVTITCR.A                                           30.845879       \n",
       "-.EVQLVETGGGLIQPGGSLR.L                                                23.836245       \n",
       "\n",
       "                               Blood_Plasma_OMICS_EBV_HP_UW007_8Apr16_Arwen_16-01-03  \\\n",
       "Peptide                                                                                \n",
       "-.DIQM*TQSPSTLSASVGDR.V                                                29.004130       \n",
       "-.DIQM*TQSPSTLSASVGDRVTITCR.A                                          30.319263       \n",
       "-.DIQMTQSPSTLSASVGDR.V                                                 29.747784       \n",
       "-.DIQMTQSPSTLSASVGDRVTITCR.A                                           30.983525       \n",
       "-.EVQLVETGGGLIQPGGSLR.L                                                 3.022208       \n",
       "\n",
       "                               Blood_Plasma_OMICS_EBV_HP_UW008_8Apr16_Arwen_16-01-03  \\\n",
       "Peptide                                                                                \n",
       "-.DIQM*TQSPSTLSASVGDR.V                                                31.023004       \n",
       "-.DIQM*TQSPSTLSASVGDRVTITCR.A                                          32.368436       \n",
       "-.DIQMTQSPSTLSASVGDR.V                                                 30.255299       \n",
       "-.DIQMTQSPSTLSASVGDRVTITCR.A                                           27.526416       \n",
       "-.EVQLVETGGGLIQPGGSLR.L                                                28.436388       \n",
       "\n",
       "                                                         ...                             \\\n",
       "Peptide                                                  ...                              \n",
       "-.DIQM*TQSPSTLSASVGDR.V                                  ...                              \n",
       "-.DIQM*TQSPSTLSASVGDRVTITCR.A                            ...                              \n",
       "-.DIQMTQSPSTLSASVGDR.V                                   ...                              \n",
       "-.DIQMTQSPSTLSASVGDRVTITCR.A                             ...                              \n",
       "-.EVQLVETGGGLIQPGGSLR.L                                  ...                              \n",
       "\n",
       "                               Temporal_Lobe_Alz_FX1P159_Guan_1_26Jul10_Andromeda_10-06-28  \\\n",
       "Peptide                                                                                      \n",
       "-.DIQM*TQSPSTLSASVGDR.V                                                 3.022208             \n",
       "-.DIQM*TQSPSTLSASVGDRVTITCR.A                                           3.022208             \n",
       "-.DIQMTQSPSTLSASVGDR.V                                                  3.022208             \n",
       "-.DIQMTQSPSTLSASVGDRVTITCR.A                                            3.022208             \n",
       "-.EVQLVETGGGLIQPGGSLR.L                                                 3.022208             \n",
       "\n",
       "                               Temporal_Lobe_Alz_FX1P159_Guan_2_26Jul10_Andromeda_10-06-29  \\\n",
       "Peptide                                                                                      \n",
       "-.DIQM*TQSPSTLSASVGDR.V                                                 3.022208             \n",
       "-.DIQM*TQSPSTLSASVGDRVTITCR.A                                           3.022208             \n",
       "-.DIQMTQSPSTLSASVGDR.V                                                  3.022208             \n",
       "-.DIQMTQSPSTLSASVGDRVTITCR.A                                            3.022208             \n",
       "-.EVQLVETGGGLIQPGGSLR.L                                                 3.022208             \n",
       "\n",
       "                               Temporal_Lobe_Alz_FX1P159_Guan_3_26Jul10_Andromeda_10-06-28  \\\n",
       "Peptide                                                                                      \n",
       "-.DIQM*TQSPSTLSASVGDR.V                                                 3.022208             \n",
       "-.DIQM*TQSPSTLSASVGDRVTITCR.A                                           3.022208             \n",
       "-.DIQMTQSPSTLSASVGDR.V                                                  3.022208             \n",
       "-.DIQMTQSPSTLSASVGDRVTITCR.A                                            3.022208             \n",
       "-.EVQLVETGGGLIQPGGSLR.L                                                 3.022208             \n",
       "\n",
       "                               Temporal_Lobe_Alz_FX1P159_Guan_Typx2_1_26Jul10_Andromeda_10-06-29  \\\n",
       "Peptide                                                                                            \n",
       "-.DIQM*TQSPSTLSASVGDR.V                                                 3.022208                   \n",
       "-.DIQM*TQSPSTLSASVGDRVTITCR.A                                           3.022208                   \n",
       "-.DIQMTQSPSTLSASVGDR.V                                                  3.022208                   \n",
       "-.DIQMTQSPSTLSASVGDRVTITCR.A                                            3.022208                   \n",
       "-.EVQLVETGGGLIQPGGSLR.L                                                 3.022208                   \n",
       "\n",
       "                               Temporal_Lobe_Alz_FX1P159_Guan_Typx2_2_26Jul10_Andromeda_10-06-28  \\\n",
       "Peptide                                                                                            \n",
       "-.DIQM*TQSPSTLSASVGDR.V                                                 3.022208                   \n",
       "-.DIQM*TQSPSTLSASVGDRVTITCR.A                                           3.022208                   \n",
       "-.DIQMTQSPSTLSASVGDR.V                                                  3.022208                   \n",
       "-.DIQMTQSPSTLSASVGDRVTITCR.A                                            3.022208                   \n",
       "-.EVQLVETGGGLIQPGGSLR.L                                                 3.022208                   \n",
       "\n",
       "                               Temporal_Lobe_Alz_FX1P159_Guan_Typx2_3_26Jul10_Andromeda_10-06-29  \\\n",
       "Peptide                                                                                            \n",
       "-.DIQM*TQSPSTLSASVGDR.V                                                 3.022208                   \n",
       "-.DIQM*TQSPSTLSASVGDRVTITCR.A                                           3.022208                   \n",
       "-.DIQMTQSPSTLSASVGDR.V                                                  3.022208                   \n",
       "-.DIQMTQSPSTLSASVGDRVTITCR.A                                            3.022208                   \n",
       "-.EVQLVETGGGLIQPGGSLR.L                                                 3.022208                   \n",
       "\n",
       "                               Temporal_Lobe_Alz_FX2P57_IMAC_153_9May11_Hawk_11-04-02p  \\\n",
       "Peptide                                                                                  \n",
       "-.DIQM*TQSPSTLSASVGDR.V                                                 3.022208         \n",
       "-.DIQM*TQSPSTLSASVGDRVTITCR.A                                           3.022208         \n",
       "-.DIQMTQSPSTLSASVGDR.V                                                  3.022208         \n",
       "-.DIQMTQSPSTLSASVGDRVTITCR.A                                            3.022208         \n",
       "-.EVQLVETGGGLIQPGGSLR.L                                                 3.022208         \n",
       "\n",
       "                               Temporal_Lobe_Alz_FX2P57_IMAC_161_20Apr11_Hawk_10-12-03p  \\\n",
       "Peptide                                                                                   \n",
       "-.DIQM*TQSPSTLSASVGDR.V                                                 3.022208          \n",
       "-.DIQM*TQSPSTLSASVGDRVTITCR.A                                           3.022208          \n",
       "-.DIQMTQSPSTLSASVGDR.V                                                  3.022208          \n",
       "-.DIQMTQSPSTLSASVGDRVTITCR.A                                            3.022208          \n",
       "-.EVQLVETGGGLIQPGGSLR.L                                                 3.022208          \n",
       "\n",
       "                               Temporal_Lobe_Alz_FX2P57_IMAC_187_26Apr11_Hawk_10-12-03p  \\\n",
       "Peptide                                                                                   \n",
       "-.DIQM*TQSPSTLSASVGDR.V                                                 3.022208          \n",
       "-.DIQM*TQSPSTLSASVGDRVTITCR.A                                           3.022208          \n",
       "-.DIQMTQSPSTLSASVGDR.V                                                  3.022208          \n",
       "-.DIQMTQSPSTLSASVGDRVTITCR.A                                            3.022208          \n",
       "-.EVQLVETGGGLIQPGGSLR.L                                                 3.022208          \n",
       "\n",
       "                               Temporal_Lobe_Alz_FX2P57_IMAC_212_11May11_Hawk_11-04-02p  \n",
       "Peptide                                                                                  \n",
       "-.DIQM*TQSPSTLSASVGDR.V                                                 3.022208         \n",
       "-.DIQM*TQSPSTLSASVGDRVTITCR.A                                           3.022208         \n",
       "-.DIQMTQSPSTLSASVGDR.V                                                  3.022208         \n",
       "-.DIQMTQSPSTLSASVGDRVTITCR.A                                            3.022208         \n",
       "-.EVQLVETGGGLIQPGGSLR.L                                                 3.022208         \n",
       "\n",
       "[5 rows x 253 columns]"
      ]
     },
     "execution_count": 4,
     "metadata": {},
     "output_type": "execute_result"
    }
   ],
   "source": [
    "df.head()"
   ]
  },
  {
   "cell_type": "markdown",
   "metadata": {},
   "source": [
    "## Map each column to a corresponding label"
   ]
  },
  {
   "cell_type": "code",
   "execution_count": 5,
   "metadata": {},
   "outputs": [],
   "source": [
    "tissues = ['Blood_Plasma', 'Blood_Serum', 'CSF', 'Liver', 'Monocyte', 'Ovary', 'Pancreas', 'Substantia_Nigra', 'Temporal_Lobe']\n",
    " \n",
    "tissues_to_columns = cu.map_tissues_to_columns(df, tissues)"
   ]
  },
  {
   "cell_type": "code",
   "execution_count": 7,
   "metadata": {},
   "outputs": [
    {
     "data": {
      "text/plain": [
       "['Blood_Plasma',\n",
       " 'Blood_Plasma',\n",
       " 'Blood_Plasma',\n",
       " 'Blood_Plasma',\n",
       " 'Blood_Plasma',\n",
       " 'Blood_Plasma',\n",
       " 'Blood_Plasma',\n",
       " 'Blood_Plasma',\n",
       " 'Blood_Plasma',\n",
       " 'Blood_Plasma',\n",
       " 'Blood_Plasma',\n",
       " 'Blood_Plasma',\n",
       " 'Blood_Plasma',\n",
       " 'Blood_Plasma',\n",
       " 'Blood_Plasma',\n",
       " 'Blood_Plasma',\n",
       " 'Blood_Plasma',\n",
       " 'Blood_Plasma',\n",
       " 'Blood_Plasma',\n",
       " 'Blood_Plasma',\n",
       " 'Blood_Plasma',\n",
       " 'Blood_Plasma',\n",
       " 'Blood_Plasma',\n",
       " 'Blood_Plasma',\n",
       " 'Blood_Plasma',\n",
       " 'Blood_Plasma',\n",
       " 'Blood_Plasma',\n",
       " 'Blood_Plasma',\n",
       " 'Blood_Plasma',\n",
       " 'Blood_Serum',\n",
       " 'Blood_Serum',\n",
       " 'Blood_Serum',\n",
       " 'Blood_Serum',\n",
       " 'Blood_Serum',\n",
       " 'Blood_Serum',\n",
       " 'Blood_Serum',\n",
       " 'Blood_Serum',\n",
       " 'Blood_Serum',\n",
       " 'Blood_Serum',\n",
       " 'Blood_Serum',\n",
       " 'Blood_Serum',\n",
       " 'Blood_Serum',\n",
       " 'Blood_Serum',\n",
       " 'Blood_Serum',\n",
       " 'Blood_Serum',\n",
       " 'Blood_Serum',\n",
       " 'Blood_Serum',\n",
       " 'Blood_Serum',\n",
       " 'Blood_Serum',\n",
       " 'Blood_Serum',\n",
       " 'Blood_Serum',\n",
       " 'Blood_Serum',\n",
       " 'Blood_Serum',\n",
       " 'Blood_Serum',\n",
       " 'Blood_Serum',\n",
       " 'Blood_Serum',\n",
       " 'Blood_Serum',\n",
       " 'Blood_Serum',\n",
       " 'Blood_Serum',\n",
       " 'CSF',\n",
       " 'CSF',\n",
       " 'CSF',\n",
       " 'CSF',\n",
       " 'CSF',\n",
       " 'CSF',\n",
       " 'CSF',\n",
       " 'CSF',\n",
       " 'CSF',\n",
       " 'CSF',\n",
       " 'CSF',\n",
       " 'CSF',\n",
       " 'CSF',\n",
       " 'CSF',\n",
       " 'CSF',\n",
       " 'CSF',\n",
       " 'CSF',\n",
       " 'CSF',\n",
       " 'CSF',\n",
       " 'CSF',\n",
       " 'CSF',\n",
       " 'CSF',\n",
       " 'CSF',\n",
       " 'CSF',\n",
       " 'CSF',\n",
       " 'CSF',\n",
       " 'CSF',\n",
       " 'CSF',\n",
       " 'CSF',\n",
       " 'CSF',\n",
       " 'Liver',\n",
       " 'Liver',\n",
       " 'Liver',\n",
       " 'Liver',\n",
       " 'Liver',\n",
       " 'Liver',\n",
       " 'Liver',\n",
       " 'Liver',\n",
       " 'Liver',\n",
       " 'Liver',\n",
       " 'Liver',\n",
       " 'Liver',\n",
       " 'Liver',\n",
       " 'Liver',\n",
       " 'Liver',\n",
       " 'Liver',\n",
       " 'Liver',\n",
       " 'Liver',\n",
       " 'Liver',\n",
       " 'Liver',\n",
       " 'Liver',\n",
       " 'Liver',\n",
       " 'Liver',\n",
       " 'Liver',\n",
       " 'Liver',\n",
       " 'Liver',\n",
       " 'Liver',\n",
       " 'Liver',\n",
       " 'Liver',\n",
       " 'Liver',\n",
       " 'Monocyte',\n",
       " 'Monocyte',\n",
       " 'Monocyte',\n",
       " 'Monocyte',\n",
       " 'Monocyte',\n",
       " 'Monocyte',\n",
       " 'Monocyte',\n",
       " 'Monocyte',\n",
       " 'Monocyte',\n",
       " 'Monocyte',\n",
       " 'Monocyte',\n",
       " 'Monocyte',\n",
       " 'Monocyte',\n",
       " 'Monocyte',\n",
       " 'Ovary',\n",
       " 'Ovary',\n",
       " 'Ovary',\n",
       " 'Ovary',\n",
       " 'Ovary',\n",
       " 'Ovary',\n",
       " 'Ovary',\n",
       " 'Ovary',\n",
       " 'Ovary',\n",
       " 'Ovary',\n",
       " 'Ovary',\n",
       " 'Ovary',\n",
       " 'Ovary',\n",
       " 'Ovary',\n",
       " 'Ovary',\n",
       " 'Ovary',\n",
       " 'Ovary',\n",
       " 'Ovary',\n",
       " 'Ovary',\n",
       " 'Ovary',\n",
       " 'Ovary',\n",
       " 'Ovary',\n",
       " 'Ovary',\n",
       " 'Ovary',\n",
       " 'Ovary',\n",
       " 'Ovary',\n",
       " 'Ovary',\n",
       " 'Ovary',\n",
       " 'Ovary',\n",
       " 'Ovary',\n",
       " 'Pancreas',\n",
       " 'Pancreas',\n",
       " 'Pancreas',\n",
       " 'Pancreas',\n",
       " 'Pancreas',\n",
       " 'Pancreas',\n",
       " 'Pancreas',\n",
       " 'Pancreas',\n",
       " 'Pancreas',\n",
       " 'Pancreas',\n",
       " 'Pancreas',\n",
       " 'Pancreas',\n",
       " 'Pancreas',\n",
       " 'Pancreas',\n",
       " 'Pancreas',\n",
       " 'Pancreas',\n",
       " 'Pancreas',\n",
       " 'Pancreas',\n",
       " 'Pancreas',\n",
       " 'Pancreas',\n",
       " 'Pancreas',\n",
       " 'Pancreas',\n",
       " 'Pancreas',\n",
       " 'Pancreas',\n",
       " 'Pancreas',\n",
       " 'Pancreas',\n",
       " 'Pancreas',\n",
       " 'Pancreas',\n",
       " 'Pancreas',\n",
       " 'Pancreas',\n",
       " 'Substantia_Nigra',\n",
       " 'Substantia_Nigra',\n",
       " 'Substantia_Nigra',\n",
       " 'Substantia_Nigra',\n",
       " 'Substantia_Nigra',\n",
       " 'Substantia_Nigra',\n",
       " 'Substantia_Nigra',\n",
       " 'Substantia_Nigra',\n",
       " 'Substantia_Nigra',\n",
       " 'Substantia_Nigra',\n",
       " 'Substantia_Nigra',\n",
       " 'Substantia_Nigra',\n",
       " 'Substantia_Nigra',\n",
       " 'Substantia_Nigra',\n",
       " 'Substantia_Nigra',\n",
       " 'Substantia_Nigra',\n",
       " 'Substantia_Nigra',\n",
       " 'Substantia_Nigra',\n",
       " 'Substantia_Nigra',\n",
       " 'Substantia_Nigra',\n",
       " 'Substantia_Nigra',\n",
       " 'Substantia_Nigra',\n",
       " 'Substantia_Nigra',\n",
       " 'Substantia_Nigra',\n",
       " 'Substantia_Nigra',\n",
       " 'Substantia_Nigra',\n",
       " 'Substantia_Nigra',\n",
       " 'Substantia_Nigra',\n",
       " 'Substantia_Nigra',\n",
       " 'Substantia_Nigra',\n",
       " 'Temporal_Lobe',\n",
       " 'Temporal_Lobe',\n",
       " 'Temporal_Lobe',\n",
       " 'Temporal_Lobe',\n",
       " 'Temporal_Lobe',\n",
       " 'Temporal_Lobe',\n",
       " 'Temporal_Lobe',\n",
       " 'Temporal_Lobe',\n",
       " 'Temporal_Lobe',\n",
       " 'Temporal_Lobe',\n",
       " 'Temporal_Lobe',\n",
       " 'Temporal_Lobe',\n",
       " 'Temporal_Lobe',\n",
       " 'Temporal_Lobe',\n",
       " 'Temporal_Lobe',\n",
       " 'Temporal_Lobe',\n",
       " 'Temporal_Lobe',\n",
       " 'Temporal_Lobe',\n",
       " 'Temporal_Lobe',\n",
       " 'Temporal_Lobe',\n",
       " 'Temporal_Lobe',\n",
       " 'Temporal_Lobe',\n",
       " 'Temporal_Lobe',\n",
       " 'Temporal_Lobe',\n",
       " 'Temporal_Lobe',\n",
       " 'Temporal_Lobe',\n",
       " 'Temporal_Lobe',\n",
       " 'Temporal_Lobe',\n",
       " 'Temporal_Lobe',\n",
       " 'Temporal_Lobe']"
      ]
     },
     "execution_count": 7,
     "metadata": {},
     "output_type": "execute_result"
    }
   ],
   "source": [
    "column_names = df.columns.values.tolist()\n",
    "labels = cu.get_labels(column_names, tissues_to_columns)\n",
    "labels"
   ]
  },
  {
   "cell_type": "markdown",
   "metadata": {},
   "source": [
    "## Make train-test split"
   ]
  },
  {
   "cell_type": "code",
   "execution_count": 7,
   "metadata": {},
   "outputs": [],
   "source": [
    "train_df, test_df, train_labels, test_labels = train_test_split(\n",
    "    df.T, labels, \n",
    "    test_size=0.30,    # 30% of the data held out in test set\n",
    "    random_state=0,    # Setting random_state ensures the same train/test split occurs each time this is run\n",
    "    stratify=labels)   # Maintain ratio of tissues represented in each set\n",
    "\n",
    "train_features = train_df.columns.values.tolist()"
   ]
  },
  {
   "cell_type": "code",
   "execution_count": 8,
   "metadata": {},
   "outputs": [],
   "source": [
    "if BINARY:\n",
    "    min_max_train_df = train_df\n",
    "    min_max_test_df = test_df\n",
    "else:\n",
    "    std_scaler = StandardScaler()\n",
    "    train_df = std_scaler.fit_transform(train_df)\n",
    "    test_df = std_scaler.fit_transform(test_df)\n",
    "\n",
    "    min_max_scaler = MinMaxScaler()\n",
    "    min_max_train_df = min_max_scaler.fit_transform(train_df)\n",
    "    min_max_test_df = min_max_scaler.fit_transform(test_df)"
   ]
  },
  {
   "cell_type": "markdown",
   "metadata": {},
   "source": [
    "## Train various classifiers, using cross-validation to produce an accuracy score (Supplementary Figure XXX)"
   ]
  },
  {
   "cell_type": "code",
   "execution_count": 9,
   "metadata": {},
   "outputs": [],
   "source": [
    "NUM_SPLITS = 100 # number of train/test splits in cross validation"
   ]
  },
  {
   "cell_type": "code",
   "execution_count": 10,
   "metadata": {},
   "outputs": [],
   "source": [
    "import time"
   ]
  },
  {
   "cell_type": "markdown",
   "metadata": {},
   "source": [
    "### KNN"
   ]
  },
  {
   "cell_type": "code",
   "execution_count": 11,
   "metadata": {
    "scrolled": true
   },
   "outputs": [
    {
     "name": "stdout",
     "output_type": "stream",
     "text": [
      "accuracy: 0.81 (+/- 0.10)\n",
      "Runtime: 2.0483501394589743 minutes\n"
     ]
    }
   ],
   "source": [
    "start = time.time()\n",
    "knn = cu.knn_model_crossval(train_df, train_labels, NUM_SPLITS)\n",
    "end = time.time()\n",
    "print(\"Runtime:\", (end - start)/60, \"minutes\")"
   ]
  },
  {
   "cell_type": "code",
   "execution_count": null,
   "metadata": {},
   "outputs": [
    {
     "name": "stdout",
     "output_type": "stream",
     "text": [
      "MLP is created\n"
     ]
    }
   ],
   "source": [
    "#MLP TESTING AREA\n",
    "start = time.time()\n",
    "mlp = cu.mlp_crossval(train_df, train_labels, NUM_SPLITS)\n",
    "end = time.time()\n",
    "print(\"Runtime:\", (end - start)/60, \"minutes\")"
   ]
  },
  {
   "cell_type": "markdown",
   "metadata": {},
   "source": [
    "### Logistic Regression"
   ]
  },
  {
   "cell_type": "code",
   "execution_count": 12,
   "metadata": {
    "scrolled": true
   },
   "outputs": [
    {
     "name": "stdout",
     "output_type": "stream",
     "text": [
      "accuracy: 0.99 (+/- 0.03)\n",
      "Runtime: 110.30901820262274 minutes\n"
     ]
    }
   ],
   "source": [
    "start = time.time()\n",
    "lr = cu.logistic_regression_model_crossval(train_df, train_labels, NUM_SPLITS)\n",
    "end = time.time()\n",
    "print(\"Runtime:\", (end - start)/60, \"minutes\")"
   ]
  },
  {
   "cell_type": "markdown",
   "metadata": {},
   "source": [
    "### Naive Bayes\n",
    "* Gaussian\n",
    "* Multinomial"
   ]
  },
  {
   "cell_type": "code",
   "execution_count": 13,
   "metadata": {
    "scrolled": true
   },
   "outputs": [
    {
     "name": "stdout",
     "output_type": "stream",
     "text": [
      "accuracy: 0.97 (+/- 0.05)\n",
      "Runtime: 2.909733251730601 minutes\n"
     ]
    }
   ],
   "source": [
    "start = time.time()\n",
    "gnb = cu.bayes_gaussian_model_crossval(train_df, train_labels, NUM_SPLITS)\n",
    "end = time.time()\n",
    "print(\"Runtime:\", (end - start)/60, \"minutes\")"
   ]
  },
  {
   "cell_type": "code",
   "execution_count": 14,
   "metadata": {
    "scrolled": false
   },
   "outputs": [
    {
     "name": "stdout",
     "output_type": "stream",
     "text": [
      "accuracy: 0.95 (+/- 0.06)\n",
      "Runtime: 0.4289832870165507 minutes\n"
     ]
    }
   ],
   "source": [
    "start = time.time()\n",
    "mnb = cu.bayes_multinomial_model_crossval(min_max_train_df, train_labels, NUM_SPLITS)\n",
    "end = time.time()\n",
    "print(\"Runtime:\", (end - start)/60, \"minutes\")"
   ]
  },
  {
   "cell_type": "markdown",
   "metadata": {},
   "source": [
    "### SVC "
   ]
  },
  {
   "cell_type": "code",
   "execution_count": 15,
   "metadata": {
    "scrolled": true
   },
   "outputs": [
    {
     "name": "stdout",
     "output_type": "stream",
     "text": [
      "accuracy: 0.98 (+/- 0.04)\n",
      "Runtime: 25.652249983946483 minutes\n"
     ]
    }
   ],
   "source": [
    "start = time.time()\n",
    "svc = cu.SVC_model_crossval(train_df, train_labels, NUM_SPLITS)\n",
    "end = time.time()\n",
    "print(\"Runtime:\", (end - start)/60, \"minutes\")"
   ]
  },
  {
   "cell_type": "markdown",
   "metadata": {},
   "source": [
    "### Aggregations\n",
    "* Random Forest\n",
    "* Gradient Boosting"
   ]
  },
  {
   "cell_type": "code",
   "execution_count": 16,
   "metadata": {},
   "outputs": [
    {
     "name": "stdout",
     "output_type": "stream",
     "text": [
      "accuracy: 0.97 (+/- 0.04)\n",
      "Runtime: 0.44878331422805784 minutes\n"
     ]
    }
   ],
   "source": [
    "start = time.time()\n",
    "rf = cu.randomforest_model_crossval(train_df, train_labels, NUM_SPLITS)\n",
    "end = time.time()\n",
    "print(\"Runtime:\", (end - start)/60, \"minutes\")"
   ]
  },
  {
   "cell_type": "code",
   "execution_count": 17,
   "metadata": {},
   "outputs": [
    {
     "name": "stdout",
     "output_type": "stream",
     "text": [
      "accuracy: 0.95 (+/- 0.06)\n",
      "Runtime: 364.01851268212 minutes\n"
     ]
    }
   ],
   "source": [
    "start = time.time()\n",
    "gbc = cu.gradient_boosting_crossval(train_df, train_labels, NUM_SPLITS)\n",
    "end = time.time()\n",
    "print(\"Runtime:\", (end - start)/60, \"minutes\")"
   ]
  },
  {
   "cell_type": "markdown",
   "metadata": {},
   "source": [
    "## Classify Training Set"
   ]
  },
  {
   "cell_type": "markdown",
   "metadata": {},
   "source": [
    "### Use models from notebook to predict new data"
   ]
  },
  {
   "cell_type": "code",
   "execution_count": 18,
   "metadata": {
    "scrolled": true
   },
   "outputs": [],
   "source": [
    "lr_pred = lr.predict(test_df)\n",
    "lr_result = lr.score(test_df, test_labels)\n",
    "\n",
    "mnb_pred = mnb.predict(min_max_test_df)\n",
    "mnb_result = mnb.score(test_df, test_labels)\n",
    "\n",
    "rf_pred = rf.predict(test_df)\n",
    "rf_result = rf.score(test_df, test_labels)\n",
    "\n",
    "svc_pred = svc.predict(test_df)\n",
    "svc_result = svc.score(test_df, test_labels)\n",
    "\n",
    "gbc_pred = gbc.predict(test_df)\n",
    "gbc_result = gbc.score(test_df, test_labels)\n",
    "\n",
    "gnb_pred = gnb.predict(test_df)\n",
    "gnb_result = gnb.score(test_df, test_labels)\n",
    "\n",
    "knn_pred = knn.predict(test_df)\n",
    "knn_result = knn.score(test_df, test_labels)\n",
    "\n",
    "mlp_pred = mlp.predict(test_df)\n",
    "mlp_result = mlp.score(test_df, test_labels)"
   ]
  },
  {
   "cell_type": "code",
   "execution_count": 19,
   "metadata": {},
   "outputs": [
    {
     "name": "stdout",
     "output_type": "stream",
     "text": [
      "1.0\n",
      "0.8289473684210527\n",
      "1.0\n",
      "0.9868421052631579\n",
      "1.0\n",
      "0.9210526315789473\n",
      "0.868421052631579\n"
     ]
    }
   ],
   "source": [
    "print(lr_result)\n",
    "print(mnb_result)\n",
    "print(rf_result)\n",
    "print(svc_result)\n",
    "print(gbc_result)\n",
    "print(gnb_result)\n",
    "print(knn_result)\n",
    "print(mlp_result)"
   ]
  },
  {
   "cell_type": "markdown",
   "metadata": {},
   "source": [
    "##  Confusion matrices of model's predictions on new data"
   ]
  },
  {
   "cell_type": "code",
   "execution_count": 20,
   "metadata": {
    "scrolled": false
   },
   "outputs": [
    {
     "name": "stdout",
     "output_type": "stream",
     "text": [
      "Confusion matrix, without normalization\n",
      "[[9 0 0 0 0 0 0 0 0]\n",
      " [0 9 0 0 0 0 0 0 0]\n",
      " [0 0 9 0 0 0 0 0 0]\n",
      " [0 0 0 9 0 0 0 0 0]\n",
      " [0 0 0 0 4 0 0 0 0]\n",
      " [0 0 0 0 0 9 0 0 0]\n",
      " [0 0 0 0 0 0 9 0 0]\n",
      " [0 0 0 0 0 0 0 9 0]\n",
      " [0 0 0 0 0 0 0 6 3]]\n",
      "Normalized confusion matrix\n",
      "[[1.   0.   0.   0.   0.   0.   0.   0.   0.  ]\n",
      " [0.   1.   0.   0.   0.   0.   0.   0.   0.  ]\n",
      " [0.   0.   1.   0.   0.   0.   0.   0.   0.  ]\n",
      " [0.   0.   0.   1.   0.   0.   0.   0.   0.  ]\n",
      " [0.   0.   0.   0.   1.   0.   0.   0.   0.  ]\n",
      " [0.   0.   0.   0.   0.   1.   0.   0.   0.  ]\n",
      " [0.   0.   0.   0.   0.   0.   1.   0.   0.  ]\n",
      " [0.   0.   0.   0.   0.   0.   0.   1.   0.  ]\n",
      " [0.   0.   0.   0.   0.   0.   0.   0.67 0.33]]\n"
     ]
    },
    {
     "data": {
      "text/plain": [
       "<Figure size 432x288 with 0 Axes>"
      ]
     },
     "metadata": {},
     "output_type": "display_data"
    },
    {
     "data": {
      "image/png": "[encoded data removed]",
      "text/plain": [
       "<Figure size 576x576 with 2 Axes>"
      ]
     },
     "metadata": {},
     "output_type": "display_data"
    },
    {
     "data": {
      "text/plain": [
       "<Figure size 432x288 with 0 Axes>"
      ]
     },
     "metadata": {},
     "output_type": "display_data"
    },
    {
     "data": {
      "image/png": "[encoded data removed]",
      "text/plain": [
       "<Figure size 576x576 with 2 Axes>"
      ]
     },
     "metadata": {},
     "output_type": "display_data"
    }
   ],
   "source": [
    "cm_labels = list(set(gnb_pred.tolist() + test_labels))\n",
    "\n",
    "cu.show_confusion_matrices(test_labels, gnb_pred, cm_labels)"
   ]
  },
  {
   "cell_type": "markdown",
   "metadata": {},
   "source": [
    "## Classify Liver Cell Line Data"
   ]
  },
  {
   "cell_type": "code",
   "execution_count": 21,
   "metadata": {},
   "outputs": [
    {
     "ename": "FileNotFoundError",
     "evalue": "File b'TrainTestCellLineQuant.txt' does not exist",
     "output_type": "error",
     "traceback": [
      "\u001b[1;31m---------------------------------------------------------------------------\u001b[0m",
      "\u001b[1;31mFileNotFoundError\u001b[0m                         Traceback (most recent call last)",
      "\u001b[1;32m<ipython-input-21-b6b2bd7c6f91>\u001b[0m in \u001b[0;36m<module>\u001b[1;34m()\u001b[0m\n\u001b[1;32m----> 1\u001b[1;33m \u001b[0mcell_line_df\u001b[0m \u001b[1;33m=\u001b[0m \u001b[0mpd\u001b[0m\u001b[1;33m.\u001b[0m\u001b[0mread_csv\u001b[0m\u001b[1;33m(\u001b[0m\u001b[1;34m'TrainTestCellLineQuant.txt'\u001b[0m\u001b[1;33m,\u001b[0m \u001b[0msep\u001b[0m\u001b[1;33m=\u001b[0m\u001b[1;34m'\\t'\u001b[0m\u001b[1;33m,\u001b[0m \u001b[0mindex_col\u001b[0m\u001b[1;33m=\u001b[0m\u001b[1;34m'Peptide'\u001b[0m\u001b[1;33m)\u001b[0m\u001b[1;33m\u001b[0m\u001b[0m\n\u001b[0m\u001b[0;32m      2\u001b[0m \u001b[0mcell_line_df\u001b[0m \u001b[1;33m=\u001b[0m \u001b[0mcell_line_df\u001b[0m\u001b[1;33m.\u001b[0m\u001b[0mfilter\u001b[0m\u001b[1;33m(\u001b[0m\u001b[0mlike\u001b[0m\u001b[1;33m=\u001b[0m\u001b[1;34m'Cell_Line'\u001b[0m\u001b[1;33m,\u001b[0m \u001b[0maxis\u001b[0m\u001b[1;33m=\u001b[0m\u001b[1;36m1\u001b[0m\u001b[1;33m)\u001b[0m \u001b[1;31m# Break off cell line data\u001b[0m\u001b[1;33m\u001b[0m\u001b[0m\n\u001b[0;32m      3\u001b[0m \u001b[1;33m\u001b[0m\u001b[0m\n\u001b[0;32m      4\u001b[0m \u001b[0mcell_line_df\u001b[0m \u001b[1;33m=\u001b[0m \u001b[0mcell_line_df\u001b[0m\u001b[1;33m.\u001b[0m\u001b[0mT\u001b[0m\u001b[1;33m[\u001b[0m\u001b[0mtrain_features\u001b[0m\u001b[1;33m]\u001b[0m\u001b[1;33m\u001b[0m\u001b[0m\n\u001b[0;32m      5\u001b[0m \u001b[0mcell_line_df\u001b[0m \u001b[1;33m=\u001b[0m \u001b[0mstd_scaler\u001b[0m\u001b[1;33m.\u001b[0m\u001b[0mfit_transform\u001b[0m\u001b[1;33m(\u001b[0m\u001b[0mcell_line_df\u001b[0m\u001b[1;33m)\u001b[0m\u001b[1;33m\u001b[0m\u001b[0m\n",
      "\u001b[1;32mC:\\ProgramData\\Anaconda3\\lib\\site-packages\\pandas\\io\\parsers.py\u001b[0m in \u001b[0;36mparser_f\u001b[1;34m(filepath_or_buffer, sep, delimiter, header, names, index_col, usecols, squeeze, prefix, mangle_dupe_cols, dtype, engine, converters, true_values, false_values, skipinitialspace, skiprows, nrows, na_values, keep_default_na, na_filter, verbose, skip_blank_lines, parse_dates, infer_datetime_format, keep_date_col, date_parser, dayfirst, iterator, chunksize, compression, thousands, decimal, lineterminator, quotechar, quoting, escapechar, comment, encoding, dialect, tupleize_cols, error_bad_lines, warn_bad_lines, skipfooter, doublequote, delim_whitespace, low_memory, memory_map, float_precision)\u001b[0m\n\u001b[0;32m    676\u001b[0m                     skip_blank_lines=skip_blank_lines)\n\u001b[0;32m    677\u001b[0m \u001b[1;33m\u001b[0m\u001b[0m\n\u001b[1;32m--> 678\u001b[1;33m         \u001b[1;32mreturn\u001b[0m \u001b[0m_read\u001b[0m\u001b[1;33m(\u001b[0m\u001b[0mfilepath_or_buffer\u001b[0m\u001b[1;33m,\u001b[0m \u001b[0mkwds\u001b[0m\u001b[1;33m)\u001b[0m\u001b[1;33m\u001b[0m\u001b[0m\n\u001b[0m\u001b[0;32m    679\u001b[0m \u001b[1;33m\u001b[0m\u001b[0m\n\u001b[0;32m    680\u001b[0m     \u001b[0mparser_f\u001b[0m\u001b[1;33m.\u001b[0m\u001b[0m__name__\u001b[0m \u001b[1;33m=\u001b[0m \u001b[0mname\u001b[0m\u001b[1;33m\u001b[0m\u001b[0m\n",
      "\u001b[1;32mC:\\ProgramData\\Anaconda3\\lib\\site-packages\\pandas\\io\\parsers.py\u001b[0m in \u001b[0;36m_read\u001b[1;34m(filepath_or_buffer, kwds)\u001b[0m\n\u001b[0;32m    438\u001b[0m \u001b[1;33m\u001b[0m\u001b[0m\n\u001b[0;32m    439\u001b[0m     \u001b[1;31m# Create the parser.\u001b[0m\u001b[1;33m\u001b[0m\u001b[1;33m\u001b[0m\u001b[0m\n\u001b[1;32m--> 440\u001b[1;33m     \u001b[0mparser\u001b[0m \u001b[1;33m=\u001b[0m \u001b[0mTextFileReader\u001b[0m\u001b[1;33m(\u001b[0m\u001b[0mfilepath_or_buffer\u001b[0m\u001b[1;33m,\u001b[0m \u001b[1;33m**\u001b[0m\u001b[0mkwds\u001b[0m\u001b[1;33m)\u001b[0m\u001b[1;33m\u001b[0m\u001b[0m\n\u001b[0m\u001b[0;32m    441\u001b[0m \u001b[1;33m\u001b[0m\u001b[0m\n\u001b[0;32m    442\u001b[0m     \u001b[1;32mif\u001b[0m \u001b[0mchunksize\u001b[0m \u001b[1;32mor\u001b[0m \u001b[0miterator\u001b[0m\u001b[1;33m:\u001b[0m\u001b[1;33m\u001b[0m\u001b[0m\n",
      "\u001b[1;32mC:\\ProgramData\\Anaconda3\\lib\\site-packages\\pandas\\io\\parsers.py\u001b[0m in \u001b[0;36m__init__\u001b[1;34m(self, f, engine, **kwds)\u001b[0m\n\u001b[0;32m    785\u001b[0m             \u001b[0mself\u001b[0m\u001b[1;33m.\u001b[0m\u001b[0moptions\u001b[0m\u001b[1;33m[\u001b[0m\u001b[1;34m'has_index_names'\u001b[0m\u001b[1;33m]\u001b[0m \u001b[1;33m=\u001b[0m \u001b[0mkwds\u001b[0m\u001b[1;33m[\u001b[0m\u001b[1;34m'has_index_names'\u001b[0m\u001b[1;33m]\u001b[0m\u001b[1;33m\u001b[0m\u001b[0m\n\u001b[0;32m    786\u001b[0m \u001b[1;33m\u001b[0m\u001b[0m\n\u001b[1;32m--> 787\u001b[1;33m         \u001b[0mself\u001b[0m\u001b[1;33m.\u001b[0m\u001b[0m_make_engine\u001b[0m\u001b[1;33m(\u001b[0m\u001b[0mself\u001b[0m\u001b[1;33m.\u001b[0m\u001b[0mengine\u001b[0m\u001b[1;33m)\u001b[0m\u001b[1;33m\u001b[0m\u001b[0m\n\u001b[0m\u001b[0;32m    788\u001b[0m \u001b[1;33m\u001b[0m\u001b[0m\n\u001b[0;32m    789\u001b[0m     \u001b[1;32mdef\u001b[0m \u001b[0mclose\u001b[0m\u001b[1;33m(\u001b[0m\u001b[0mself\u001b[0m\u001b[1;33m)\u001b[0m\u001b[1;33m:\u001b[0m\u001b[1;33m\u001b[0m\u001b[0m\n",
      "\u001b[1;32mC:\\ProgramData\\Anaconda3\\lib\\site-packages\\pandas\\io\\parsers.py\u001b[0m in \u001b[0;36m_make_engine\u001b[1;34m(self, engine)\u001b[0m\n\u001b[0;32m   1012\u001b[0m     \u001b[1;32mdef\u001b[0m \u001b[0m_make_engine\u001b[0m\u001b[1;33m(\u001b[0m\u001b[0mself\u001b[0m\u001b[1;33m,\u001b[0m \u001b[0mengine\u001b[0m\u001b[1;33m=\u001b[0m\u001b[1;34m'c'\u001b[0m\u001b[1;33m)\u001b[0m\u001b[1;33m:\u001b[0m\u001b[1;33m\u001b[0m\u001b[0m\n\u001b[0;32m   1013\u001b[0m         \u001b[1;32mif\u001b[0m \u001b[0mengine\u001b[0m \u001b[1;33m==\u001b[0m \u001b[1;34m'c'\u001b[0m\u001b[1;33m:\u001b[0m\u001b[1;33m\u001b[0m\u001b[0m\n\u001b[1;32m-> 1014\u001b[1;33m             \u001b[0mself\u001b[0m\u001b[1;33m.\u001b[0m\u001b[0m_engine\u001b[0m \u001b[1;33m=\u001b[0m \u001b[0mCParserWrapper\u001b[0m\u001b[1;33m(\u001b[0m\u001b[0mself\u001b[0m\u001b[1;33m.\u001b[0m\u001b[0mf\u001b[0m\u001b[1;33m,\u001b[0m \u001b[1;33m**\u001b[0m\u001b[0mself\u001b[0m\u001b[1;33m.\u001b[0m\u001b[0moptions\u001b[0m\u001b[1;33m)\u001b[0m\u001b[1;33m\u001b[0m\u001b[0m\n\u001b[0m\u001b[0;32m   1015\u001b[0m         \u001b[1;32melse\u001b[0m\u001b[1;33m:\u001b[0m\u001b[1;33m\u001b[0m\u001b[0m\n\u001b[0;32m   1016\u001b[0m             \u001b[1;32mif\u001b[0m \u001b[0mengine\u001b[0m \u001b[1;33m==\u001b[0m \u001b[1;34m'python'\u001b[0m\u001b[1;33m:\u001b[0m\u001b[1;33m\u001b[0m\u001b[0m\n",
      "\u001b[1;32mC:\\ProgramData\\Anaconda3\\lib\\site-packages\\pandas\\io\\parsers.py\u001b[0m in \u001b[0;36m__init__\u001b[1;34m(self, src, **kwds)\u001b[0m\n\u001b[0;32m   1706\u001b[0m         \u001b[0mkwds\u001b[0m\u001b[1;33m[\u001b[0m\u001b[1;34m'usecols'\u001b[0m\u001b[1;33m]\u001b[0m \u001b[1;33m=\u001b[0m \u001b[0mself\u001b[0m\u001b[1;33m.\u001b[0m\u001b[0musecols\u001b[0m\u001b[1;33m\u001b[0m\u001b[0m\n\u001b[0;32m   1707\u001b[0m \u001b[1;33m\u001b[0m\u001b[0m\n\u001b[1;32m-> 1708\u001b[1;33m         \u001b[0mself\u001b[0m\u001b[1;33m.\u001b[0m\u001b[0m_reader\u001b[0m \u001b[1;33m=\u001b[0m \u001b[0mparsers\u001b[0m\u001b[1;33m.\u001b[0m\u001b[0mTextReader\u001b[0m\u001b[1;33m(\u001b[0m\u001b[0msrc\u001b[0m\u001b[1;33m,\u001b[0m \u001b[1;33m**\u001b[0m\u001b[0mkwds\u001b[0m\u001b[1;33m)\u001b[0m\u001b[1;33m\u001b[0m\u001b[0m\n\u001b[0m\u001b[0;32m   1709\u001b[0m \u001b[1;33m\u001b[0m\u001b[0m\n\u001b[0;32m   1710\u001b[0m         \u001b[0mpassed_names\u001b[0m \u001b[1;33m=\u001b[0m \u001b[0mself\u001b[0m\u001b[1;33m.\u001b[0m\u001b[0mnames\u001b[0m \u001b[1;32mis\u001b[0m \u001b[1;32mNone\u001b[0m\u001b[1;33m\u001b[0m\u001b[0m\n",
      "\u001b[1;32mpandas\\_libs\\parsers.pyx\u001b[0m in \u001b[0;36mpandas._libs.parsers.TextReader.__cinit__\u001b[1;34m()\u001b[0m\n",
      "\u001b[1;32mpandas\\_libs\\parsers.pyx\u001b[0m in \u001b[0;36mpandas._libs.parsers.TextReader._setup_parser_source\u001b[1;34m()\u001b[0m\n",
      "\u001b[1;31mFileNotFoundError\u001b[0m: File b'TrainTestCellLineQuant.txt' does not exist"
     ]
    }
   ],
   "source": [
    "cell_line_df = pd.read_csv('TrainTestCellLineQuant.txt', sep='\\t', index_col='Peptide')\n",
    "cell_line_df = cell_line_df.filter(like='Cell_Line', axis=1) # Break off cell line data\n",
    "\n",
    "cell_line_df = cell_line_df.T[train_features]\n",
    "cell_line_df = std_scaler.fit_transform(cell_line_df)\n",
    "min_max_cell_line_df = min_max_scaler.fit_transform(cell_line_df)\n",
    "\n",
    "cell_line_labels = ['Liver' for i in range(10)]\n",
    "cell_line_df.shape"
   ]
  },
  {
   "cell_type": "code",
   "execution_count": null,
   "metadata": {
    "scrolled": true
   },
   "outputs": [],
   "source": [
    "lr_cell_line_pred = lr.predict(cell_line_df)\n",
    "lr_cell_line_result = lr.score(cell_line_df, cell_line_labels)\n",
    "\n",
    "mnb_cell_line_pred = mnb.predict(min_max_cell_line_df)\n",
    "mnb_cell_line_result = mnb.score(min_max_cell_line_df, cell_line_labels)\n",
    "\n",
    "rf_cell_line_pred = rf.predict(cell_line_df)\n",
    "rf_cell_line_result = rf.score(cell_line_df, cell_line_labels)\n",
    "\n",
    "svc_cell_line_pred = svc.predict(cell_line_df)\n",
    "svc_cell_line_result = svc.score(cell_line_df, cell_line_labels)\n",
    "\n",
    "gbc_cell_line_pred = gbc.predict(cell_line_df)\n",
    "gbc_cell_line_result = gbc.score(cell_line_df, cell_line_labels)\n",
    "\n",
    "gnb_cell_line_pred = gnb.predict(cell_line_df)\n",
    "gnb_cell_line_result = gnb.score(cell_line_df, cell_line_labels)\n",
    "\n",
    "knn_cell_line_pred = knn.predict(cell_line_df)\n",
    "knn_cell_line_result = knn.score(cell_line_df, cell_line_labels)"
   ]
  },
  {
   "cell_type": "code",
   "execution_count": null,
   "metadata": {},
   "outputs": [],
   "source": [
    "print(lr_cell_line_result)\n",
    "print(mnb_cell_line_result)\n",
    "print(rf_cell_line_result)\n",
    "print(svc_cell_line_result)\n",
    "print(gbc_cell_line_result)\n",
    "print(gnb_cell_line_result)\n",
    "print(knn_cell_line_result)"
   ]
  },
  {
   "cell_type": "code",
   "execution_count": null,
   "metadata": {},
   "outputs": [],
   "source": [
    "print(lr_cell_line_pred)\n",
    "print(mnb_cell_line_pred)\n",
    "print(rf_cell_line_pred)\n",
    "print(svc_cell_line_pred)\n",
    "print(gbc_cell_line_pred)\n",
    "print(gnb_cell_line_pred)\n",
    "print(knn_cell_line_pred)"
   ]
  },
  {
   "cell_type": "markdown",
   "metadata": {},
   "source": [
    "##  Confusion matrices of cell line predictions "
   ]
  },
  {
   "cell_type": "code",
   "execution_count": null,
   "metadata": {
    "scrolled": false
   },
   "outputs": [],
   "source": [
    "cellline_cm_labels = list(set(['Liver'] + lr_cell_line_pred.tolist()))\n",
    "\n",
    "cu.show_confusion_matrices(cell_line_labels, lr_cell_line_pred, cellline_cm_labels)"
   ]
  },
  {
   "cell_type": "markdown",
   "metadata": {},
   "source": [
    "## Compare peptides in Liver to Liver Cell Line"
   ]
  },
  {
   "cell_type": "code",
   "execution_count": null,
   "metadata": {},
   "outputs": [],
   "source": [
    "tissue_abundances = cu.get_descending_abundances(df, labels)"
   ]
  },
  {
   "cell_type": "code",
   "execution_count": null,
   "metadata": {},
   "outputs": [],
   "source": [
    "cell_line_labels = ['Cell_Line' for i in range(10)]\n",
    "cell_line_abundances = cu.get_descending_abundances(cell_line_df, cell_line_labels)"
   ]
  },
  {
   "cell_type": "code",
   "execution_count": null,
   "metadata": {},
   "outputs": [],
   "source": [
    "top_50_liver_peptides = cu.n_most_abundant(tissue_abundances, 'Liver', 50)\n",
    "top_50_cell_line_peptides = cu.n_most_abundant(cell_line_abundances, 'Cell_Line', 50)"
   ]
  },
  {
   "cell_type": "code",
   "execution_count": null,
   "metadata": {},
   "outputs": [],
   "source": [
    "peptide_overlap = list(set(top_50_liver_peptides) & set(top_50_cell_line_peptides))"
   ]
  },
  {
   "cell_type": "code",
   "execution_count": null,
   "metadata": {},
   "outputs": [],
   "source": [
    "peptide_overlap"
   ]
  },
  {
   "cell_type": "markdown",
   "metadata": {},
   "source": [
    "### Write results to CSV"
   ]
  },
  {
   "cell_type": "code",
   "execution_count": null,
   "metadata": {},
   "outputs": [],
   "source": [
    "import csv\n",
    "from itertools import zip_longest\n",
    "\n",
    "my_dict = {\"liver\": top_50_liver_peptides, \n",
    "           \"cell_line\": top_50_cell_line_peptides, \n",
    "           \"overlap\": peptide_overlap}\n",
    "\n",
    "with open('top_peptides.csv', 'w') as outfile:\n",
    "    writer = csv.writer(outfile)\n",
    "    writer.writerow(my_dict.keys())\n",
    "    writer.writerows(zip_longest(*my_dict.values()))"
   ]
  }
 ],
 "metadata": {
  "kernelspec": {
   "display_name": "Python 3",
   "language": "python",
   "name": "python3"
  },
  "language_info": {
   "codemirror_mode": {
    "name": "ipython",
    "version": 3
   },
   "file_extension": ".py",
   "mimetype": "text/x-python",
   "name": "python",
   "nbconvert_exporter": "python",
   "pygments_lexer": "ipython3",
   "version": "3.6.5"
  },
  "toc": {
   "nav_menu": {},
   "number_sections": true,
   "sideBar": true,
   "skip_h1_title": true,
   "toc_cell": false,
   "toc_position": {},
   "toc_section_display": "block",
   "toc_window_display": false
  }
 },
 "nbformat": 4,
 "nbformat_minor": 2
}
